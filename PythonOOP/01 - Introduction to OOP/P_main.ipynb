{
 "cells": [
  {
   "cell_type": "code",
   "execution_count": 1,
   "metadata": {},
   "outputs": [],
   "source": [
    "# create class\n",
    "\n",
    "class Item:\n",
    "    def calculate_total_price(self, x, y):\n",
    "        return x*y"
   ]
  },
  {
   "cell_type": "code",
   "execution_count": 26,
   "metadata": {},
   "outputs": [
    {
     "name": "stdout",
     "output_type": "stream",
     "text": [
      "Total price = 21800.0000\n"
     ]
    }
   ],
   "source": [
    "# Create instances of class\n",
    "\n",
    "item1 = Item()\n",
    "\n",
    "# attribute assignment \n",
    "\n",
    "item1.name = 'Samsung'\n",
    "item1.price = 10900\n",
    "item1.quantity = 2\n",
    "\n",
    "print(f\"Total price = {item1.calculate_total_price(item1.price,item1.quantity):0.4f}\")\n",
    "\n"
   ]
  },
  {
   "cell_type": "markdown",
   "metadata": {},
   "source": [
    " "
   ]
  }
 ],
 "metadata": {
  "kernelspec": {
   "display_name": "practice_env",
   "language": "python",
   "name": "python3"
  },
  "language_info": {
   "codemirror_mode": {
    "name": "ipython",
    "version": 3
   },
   "file_extension": ".py",
   "mimetype": "text/x-python",
   "name": "python",
   "nbconvert_exporter": "python",
   "pygments_lexer": "ipython3",
   "version": "3.10.12"
  },
  "orig_nbformat": 4
 },
 "nbformat": 4,
 "nbformat_minor": 2
}
