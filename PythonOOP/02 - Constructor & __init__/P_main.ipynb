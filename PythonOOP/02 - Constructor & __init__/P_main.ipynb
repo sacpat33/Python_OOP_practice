{
 "cells": [
  {
   "cell_type": "code",
   "execution_count": 1,
   "metadata": {},
   "outputs": [],
   "source": [
    "class Item:\n",
    "    def __init__(self, name: str, price: float, quantity=0):\n",
    "        assert price >= 0, f\"Price {price} should be positive value\"\n",
    "        assert quantity >= 0, f\"Quantity {quantity} should be realistic vaues\"\n",
    "\n",
    "        # self assignment\n",
    "        self.name = name\n",
    "        self.price = price\n",
    "        self.quantity =quantity\n",
    "\n",
    "    def calculate_total_price(self):\n",
    "        return self.price*self.quantity\n"
   ]
  },
  {
   "cell_type": "code",
   "execution_count": 10,
   "metadata": {},
   "outputs": [
    {
     "name": "stdout",
     "output_type": "stream",
     "text": [
      "O/P 1 =  -100000\n"
     ]
    }
   ],
   "source": [
    "item1 = Item(name='Apple', price=40000, quantity=2)\n",
    "item1.price = -50000\n",
    "print(\"O/P 1 = \", item1.calculate_total_price())\n"
   ]
  }
 ],
 "metadata": {
  "kernelspec": {
   "display_name": "practice_env",
   "language": "python",
   "name": "python3"
  },
  "language_info": {
   "codemirror_mode": {
    "name": "ipython",
    "version": 3
   },
   "file_extension": ".py",
   "mimetype": "text/x-python",
   "name": "python",
   "nbconvert_exporter": "python",
   "pygments_lexer": "ipython3",
   "version": "3.10.12"
  },
  "orig_nbformat": 4
 },
 "nbformat": 4,
 "nbformat_minor": 2
}
